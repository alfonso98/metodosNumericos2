{
 "cells": [
  {
   "cell_type": "markdown",
   "metadata": {},
   "source": [
    "<img src=\"https://www.acatlan.unam.mx/identidad-acatlan/img/Logotipos/Escudo/escudo-b.jpg\" alt=\"Portada\" style=\"float: left; margin-right: 50px; width: 120px\" />\n",
    "<h1>Métodos Numéricos 2</h1>\n",
    "<h2 style=\"color:#1a4996\">Mtra. Teresa Carrillo Ramírez</h2>\n",
    "<h2 style=\"color:#1a4996\">Alfonso Flores Zenteno</h2>\n",
    "\n",
    "___"
   ]
  },
  {
   "cell_type": "markdown",
   "metadata": {},
   "source": [
    "# Splines Cúbicos\n",
    "\n",
    "El método de Splines cúbicos es bastante útil ya que nos permite generar, a partir de una tabla de valores, múltiples polinomios o splines que se ajustan por cada par de puntos, lo que se conoce como aproximación polinómica fragmentaria. \n",
    "A continuación se presenta el algoritmo para obtener splines cúbicos en 5 pasos:\n",
    "\n",
    "1. Calcular diferencias y diferencias divididas\n",
    "1. Crear el sistema de ecuaciones\n",
    "1. Resolver el sistema de ecuaciones\n",
    "1. Calcular los coeficientes de los polinomios\n",
    "1. Formar los splines"
   ]
  },
  {
   "cell_type": "markdown",
   "metadata": {},
   "source": [
    "Para ejemplificar este método vamos a utilizar los siguientes puntos:\n",
    "\n",
    "| x   | f(x) |\n",
    "|-----|------|\n",
    "| 2   | 2473 |\n",
    "| 2.5 | 2502 |\n",
    "| 3   | 2538 |\n",
    "| 3.5 | 2530 |\n",
    "| 4.5 | 2575 |\n",
    "| 5.5 | 2608 |\n",
    "| 6.5 | 2691 |\n",
    "| 7.5 | 2462 |\n",
    "| 8   | 2423 |\n",
    "\n",
    "Comencemos creando una tupla con nuestros pares ordenados."
   ]
  },
  {
   "cell_type": "code",
   "execution_count": 1,
   "metadata": {},
   "outputs": [],
   "source": [
    "# Usaremos una tupla en vez de una lista ya que así garantizamos que los valores se queden intactos\n",
    "puntos = ((2, 2473), (2.5, 2502), (3, 2538), (3.5, 2530), (4.5, 2575), (5.5, 2608), (6.5, 2691), (7.5, 2462), (8, 2423))"
   ]
  },
  {
   "cell_type": "markdown",
   "metadata": {},
   "source": [
    "## 1. Calcular diferencias y diferencias divididas\n",
    "\n",
    "Comenzamos calculando las diferencias las cuales se nombran **H**:$$x_{i+1} - x_{i}$$ después se calcularán las diferencias divididas con el nombre **G**: $$\\frac{f_{i+1}-f{i}}{H_{i}}$$ Cabe destacar que se 'perderá' un renglón de la tabla de datos ya que el último renglón no tiene un valor extra con el cual operar."
   ]
  },
  {
   "cell_type": "code",
   "execution_count": 2,
   "metadata": {},
   "outputs": [
    {
     "name": "stdout",
     "output_type": "stream",
     "text": [
      "[0.5, 0.5, 0.5, 1.0, 1.0, 1.0, 1.0, 0.5]\n",
      "[58.0, 72.0, -16.0, 45.0, 33.0, 83.0, -229.0, -78.0]\n"
     ]
    }
   ],
   "source": [
    "# Inicializamos H y G como listas vacias\n",
    "H = []\n",
    "G = []\n",
    "\n",
    "# Recorremos nuestra tupla de puntos ordenados del primer al penúltimo elemento ya que el último no tiene \n",
    "# un par subsecuente con el cual operarlo\n",
    "for i in range(0,len(puntos)-1):\n",
    "    H.append(puntos[i+1][0]-puntos[i][0])\n",
    "    G.append((puntos[i+1][1]-puntos[i][1])/H[i])\n",
    "\n",
    "# Comprobamos los resultados\n",
    "print(H)\n",
    "print(G)"
   ]
  },
  {
   "cell_type": "markdown",
   "metadata": {},
   "source": [
    "Es así que llegamos a la siguiente tabla:\n",
    "\n",
    "| x   | f(x) | H   | G    |\n",
    "|-----|------|-----|------|\n",
    "| 2   | 2473 | 0.5 | 58   |\n",
    "| 2.5 | 2502 | 0.5 | 72   |\n",
    "| 3   | 2538 | 0.5 | -16  |\n",
    "| 3.5 | 2530 | 1   | 45   |\n",
    "| 4.5 | 2575 | 1   | 33   |\n",
    "| 5.5 | 2608 | 1   | 83   |\n",
    "| 6.5 | 2691 | 1   | -229 |\n",
    "| 7.5 | 2462 | 0.5 | -78  |\n",
    "| 8   | 2423 | -   | -    |"
   ]
  },
  {
   "cell_type": "markdown",
   "metadata": {},
   "source": [
    "## 2. Crear sistema de ecuaciones\n",
    "\n",
    "Ahora seguiremos la teoría para formar un sistema de ecuaciones de la siguiente forma: $$ A\\overline{S} = \\overline{b} $$ en donde nuestra matriz **A** se formará a partir del vector **H**."
   ]
  },
  {
   "cell_type": "code",
   "execution_count": 3,
   "metadata": {},
   "outputs": [
    {
     "name": "stdout",
     "output_type": "stream",
     "text": [
      "[0.5, 2.0, 0.5, 0, 0, 0, 0, 0, 0]\n",
      "[0, 0.5, 2.0, 0.5, 0, 0, 0, 0, 0]\n",
      "[0, 0, 0.5, 3.0, 1.0, 0, 0, 0, 0]\n",
      "[0, 0, 0, 1.0, 4.0, 1.0, 0, 0, 0]\n",
      "[0, 0, 0, 0, 1.0, 4.0, 1.0, 0, 0]\n",
      "[0, 0, 0, 0, 0, 1.0, 4.0, 1.0, 0]\n",
      "[0, 0, 0, 0, 0, 0, 1.0, 3.0, 0.5]\n"
     ]
    }
   ],
   "source": [
    "# Creamos una función que nos permita vizualizar matrices más fácil\n",
    "def printMatrix(M):\n",
    "    for l in M:\n",
    "        print(l)\n",
    "\n",
    "# Inicializamos la Matriz A como una lista vacia\n",
    "MA = []\n",
    "\n",
    "# Recorremos el vector H del primer al penúltimo elemento\n",
    "for i in range(0, len(H) -1):\n",
    "    \n",
    "    # Vector auxiliar de tamaño mayor a H para guardar 2 valores calculados más, se inicializa todo en cero\n",
    "    aux = [0] * (len(H) + 1)\n",
    "    \n",
    "    # Se coloca sobre la diagonal el valor H[i] hasta el penúltimo elemento\n",
    "    aux[i] = H[i]\n",
    "    # Un espacio a la derecha se coloca el doble de la suma del elemento H[i] más H[i+1]\n",
    "    aux[i+1] = 2*(H[i]+H[i+1])\n",
    "    # Al siguiente espacio a la derecha se coloca el siguiente elemento en la tabla, osea el H[i+1]\n",
    "    aux[i+2] = H[i+1]\n",
    "    \n",
    "    # Añadimos este vector a la matríz\n",
    "    MA.append(aux)\n",
    "    \n",
    "# Verificamos el resultado\n",
    "printMatrix(MA)"
   ]
  },
  {
   "cell_type": "markdown",
   "metadata": {},
   "source": [
    "Nos podemos dar cuenta que no se trata de un matriz cuadrada ya que nos faltan 2 ecuaciones para obtener un sistema de (9x9), lo que podemos hacer es retirar la primer y última columna y quedarnos con un sistema de 7x7 como el siguiente:"
   ]
  },
  {
   "cell_type": "code",
   "execution_count": 4,
   "metadata": {},
   "outputs": [
    {
     "name": "stdout",
     "output_type": "stream",
     "text": [
      "[2.0, 0.5, 0, 0, 0, 0, 0]\n",
      "[0.5, 2.0, 0.5, 0, 0, 0, 0]\n",
      "[0, 0.5, 3.0, 1.0, 0, 0, 0]\n",
      "[0, 0, 1.0, 4.0, 1.0, 0, 0]\n",
      "[0, 0, 0, 1.0, 4.0, 1.0, 0]\n",
      "[0, 0, 0, 0, 1.0, 4.0, 1.0]\n",
      "[0, 0, 0, 0, 0, 1.0, 3.0]\n"
     ]
    }
   ],
   "source": [
    "# Inicializamos una variable auxiliar como una lista vacia\n",
    "Maux = []\n",
    "\n",
    "# Recorremos todos los renglones de la matriz\n",
    "for j in MA:\n",
    "    \n",
    "    # Añadimos a la matriz auxiliar el renglón recortado de la matriz original\n",
    "    Maux.append(j[1:len(j)-1])\n",
    "\n",
    "# Re-asignamos la matriz modificada en la variable que contenía la matriz original\n",
    "MA = Maux\n",
    "\n",
    "# Verificamos el resultado\n",
    "printMatrix(MA)"
   ]
  },
  {
   "cell_type": "markdown",
   "metadata": {},
   "source": [
    "Para crear el vector independiente se sigue la siguiente fórmula que usa los valores calculados en el paso anterior en la columna G, la formula es: $$6(G[i+1] - G[i])$$ con esto podemos obtener un vector independiente de 7 elementos que se ajusta correctamente a nuestro sistema de ecuaciones como se aprecia a continuación."
   ]
  },
  {
   "cell_type": "code",
   "execution_count": 5,
   "metadata": {},
   "outputs": [
    {
     "name": "stdout",
     "output_type": "stream",
     "text": [
      "84.0\n",
      "-528.0\n",
      "366.0\n",
      "-72.0\n",
      "300.0\n",
      "-1872.0\n",
      "906.0\n"
     ]
    }
   ],
   "source": [
    "# Inicializamos el vector independiente 'Vb' como una lista vacía\n",
    "Vb = []\n",
    "\n",
    "# Recorremos el vector G del primer al penúltimo elemento\n",
    "for i in range(0, len(G) -1):\n",
    "    Vb.append( 6 * (G[i+1]-G[i]) )\n",
    "\n",
    "# Verificamos los resultados\n",
    "printMatrix(Vb)"
   ]
  },
  {
   "cell_type": "markdown",
   "metadata": {},
   "source": [
    "## 3. Resolver el sistema de ecuaciones\n",
    "\n",
    "Para resolver este sistema de la forma: $$ \\overline{S} = A^{-1}\\overline{b} $$\n",
    "utilizaremos el método de intercambio para obtener la matriz inversa. Este es método directo que consiste en invertir matrices en el mismo sitio donde se tiene a la matriz original, destruyéndose ésta y sin tener la necesidad de contar con almacenamiento\n",
    "adicional para guardar la inversa."
   ]
  },
  {
   "cell_type": "code",
   "execution_count": 6,
   "metadata": {},
   "outputs": [
    {
     "name": "stdout",
     "output_type": "stream",
     "text": [
      "[0.5350435949027499, -0.14017437961099932, 0.025653923541247483, -0.006874580818242789, 0.0018443997317236752, -0.0005030181086519114, 0.00016767270288397049]\n",
      "[-0.14017437961099932, 0.5606975184439973, -0.10261569416498993, 0.027498323272971158, -0.007377598926894701, 0.0020120724346076456, -0.0006706908115358819]\n",
      "[0.025653923541247483, -0.10261569416498993, 0.3848088531187122, -0.10311871227364185, 0.027665995975855128, -0.007545271629778671, 0.0025150905432595573]\n",
      "[-0.0068745808182427886, 0.027498323272971154, -0.10311871227364185, 0.29560697518444, -0.07930918846411804, 0.021629778672032196, -0.007209926224010731]\n",
      "[0.0018443997317236752, -0.007377598926894701, 0.027665995975855128, -0.07930918846411804, 0.289570757880617, -0.07897384305835009, 0.026324614352783365]\n",
      "[-0.0005030181086519114, 0.0020120724346076456, -0.007545271629778671, 0.021629778672032196, -0.07897384305835009, 0.29426559356136817, -0.09808853118712274]\n",
      "[0.00016767270288397049, -0.0006706908115358819, 0.0025150905432595573, -0.007209926224010731, 0.026324614352783365, -0.09808853118712274, 0.3660295103957075]\n"
     ]
    }
   ],
   "source": [
    "# Esta variable representa la dimensión de nuestra matriz porque sabemos que es una matriz cuadrada\n",
    "N = len(MA)\n",
    "\n",
    "# Creamos dos listas con los índices posibles a tomar por el pivote\n",
    "i_l = list(range(0, N))\n",
    "j_l = list(range(0, N))\n",
    "\n",
    "# Se deben tomar en cuenta N pivotes y N iteraciones para cubrir toda la matriz\n",
    "for iteracion in range(0,N):\n",
    "\n",
    "    # Para encontrar el pivote hacemos lo siguiente en cada iteración\n",
    "    biggest = 0\n",
    "    pivot = 0\n",
    "    \n",
    "    # Encontramos el pivote dentro de las listas de índices (i, j) posibles\n",
    "    for u in i_l:\n",
    "        for v in j_l:\n",
    "            if(abs(MA[u][v]) > biggest):\n",
    "                biggest = MA[u][v]\n",
    "                pivot = (u, v)\n",
    "\n",
    "\n",
    "    # Operaciones sobre la matriz con el pivote\n",
    "\n",
    "    # Dividir los elementos del renglón pivote entre el pivote y cambiarles el signo excepto el pivote\n",
    "    for a in range(0, N):\n",
    "        if( a != pivot[1] ):\n",
    "            MA[pivot[0]][a] = -MA[pivot[0]][a]/biggest\n",
    "\n",
    "    # Sumar a los elementos de todos los renglones  diferentes al del pivote, \n",
    "    # con excepción de los que estén en la columna del pivote, los correspondientes \n",
    "    # elementos del renglón del pivote (ya corregido) multiplicado por el elemento correspondiente en la columna del pivote\n",
    "    for a in range(0, N):   \n",
    "        for b in range(0, N):\n",
    "            if( a != pivot[0] and b != pivot[1] ):\n",
    "                MA[a][b] = MA[a][b] + ( MA[pivot[0]][b] * MA[a][pivot[1]] )\n",
    "\n",
    "    #  Dividir todos los elementos de la columna del pivote entre el propio pivote (excepto el elemento pivote).\n",
    "    for b in range(0, N):\n",
    "        if( b != pivot[0] ):\n",
    "            MA[b][pivot[1]] = MA[b][pivot[1]] / biggest\n",
    "\n",
    "    # Reemplazar el elemento pivote por su recíproco.\n",
    "    MA[pivot[0]][pivot[1]] = 1/MA[pivot[0]][pivot[1]]\n",
    "\n",
    "    # Eliminamos de las listas los índices del pivote\n",
    "    i_l.remove(pivot[0])\n",
    "    j_l.remove(pivot[1])\n",
    "    \n",
    "# Verificamos la matriz inversa\n",
    "printMatrix(MA)"
   ]
  },
  {
   "cell_type": "code",
   "execution_count": 7,
   "metadata": {},
   "outputs": [
    {
     "name": "stdout",
     "output_type": "stream",
     "text": [
      "130.48692152917505\n",
      "-353.94768611670025\n",
      "229.30382293762574\n",
      "-144.93762575452718\n",
      "278.44668008048285\n",
      "-668.8490945674043\n",
      "524.9496981891348\n"
     ]
    }
   ],
   "source": [
    "# Guardamos el vector resultado en esta lista vacía\n",
    "VS = list()\n",
    "\n",
    "# Ahora multiplicamos la matriz inversa que se encuentra en 'MA' por el vector independiente 'b'\n",
    "for i in range(0, N):\n",
    "    result = 0\n",
    "    for j in range(0, N):\n",
    "        result += MA[i][j] * Vb[j]\n",
    "    VS.append(result)\n",
    "\n",
    "printMatrix(VS)"
   ]
  },
  {
   "cell_type": "markdown",
   "metadata": {},
   "source": [
    "## 4. Calcular los coeficientes\n",
    "\n",
    "Con el vector resultado S que obtuvimos en el paso anterior podemos añadir otra columna a nuestra tabla de valores pero hay que ser cuidadosos ya que al eliminar la primer y última columna se deben anotar ceros en el primer y último renglón como se ve a continuación:\n",
    "\n",
    "| x   | f(x) | H   | G    | S   |\n",
    "|-----|------|-----|------|-----|\n",
    "| 2   | 2473 | 0.5 | 58   |  0  |\n",
    "| 2.5 | 2502 | 0.5 | 72   | 130.487  |\n",
    "| 3   | 2538 | 0.5 | -16  | -353.948 |\n",
    "| 3.5 | 2530 | 1   | 45   | 229.304  |\n",
    "| 4.5 | 2575 | 1   | 33   | -144.937 |\n",
    "| 5.5 | 2608 | 1   | 83   | 278.446  |\n",
    "| 6.5 | 2691 | 1   | -229 | -668.85  |\n",
    "| 7.5 | 2462 | 0.5 | -78  | 524.95   |\n",
    "| 8   | 2423 | -   | -    |  -       |\n",
    "\n",
    "Como se ha visto hasta ahora al proporcionar 9 puntos $$(x, f(x))$$ debemos encontrar 8 splines que unan todos los puntos. Al tratarse de splines cúbicos de la forma $$Ax^3+Bx^2+Cx+D$$ podemos deducir que para cada polinomio debemos encontrar 4 coeficientes, lo que nos da un total de 32 coeficientes a determinar, pero con ayuda de nuestra tabla de datos y de las siguientes fórmulas podemos calcularlos fácilmente:\n",
    "$$ a_i =  \\frac{S_{i+1}-S_i}{6h_i} $$\n",
    "\n",
    "$$ b_i = \\frac{S_i}{2} $$\n",
    "\n",
    "$$ c_i = \\frac{f(x)_{i+1}-f(x)_i}{h_i} - (\\frac{S_{i+1}+2S_i}{6}) h_i $$\n",
    "\n",
    "$$ d_i = F(x)_i$$"
   ]
  },
  {
   "cell_type": "code",
   "execution_count": 8,
   "metadata": {},
   "outputs": [],
   "source": [
    "# Añadimos un cero al inicio y otro al final de nuestro vector 'S'\n",
    "VS.insert(0,0)\n",
    "VS.append(0)\n",
    "\n",
    "\n",
    "# Inicializamos vectores vacios de coeficientes\n",
    "A = []\n",
    "B = []\n",
    "C = []\n",
    "D = []\n",
    "\n",
    "# Recorremos desde el primer elemento de S hasta el penúltimo\n",
    "for k in range(0, len(VS)-1 ):\n",
    "    \n",
    "    # Aplicamos las funciones para calcular 4 coeficientes en cada iteración \n",
    "    A.append( (VS[k+1] - VS[k])/(6*H[k]) )\n",
    "    B.append( VS[k]/2 )\n",
    "    aux = ((VS[k+1] + (2*VS[k]))/6)*H[k]\n",
    "    C.append( ((puntos[k+1][1] - puntos[k][1])/H[k]) - aux )\n",
    "    D.append(puntos[k][1])\n"
   ]
  },
  {
   "cell_type": "code",
   "execution_count": 9,
   "metadata": {},
   "outputs": [
    {
     "name": "stdout",
     "output_type": "stream",
     "text": [
      "|      A      |      B      |      C      |      D      |\n",
      "| 43.49564051 | 0.00000000 | 47.12608987 | 2473.00000000 |\n",
      "| -161.47820255 | 65.24346076 | 79.74782025 | 2502.00000000 |\n",
      "| 194.41716968 | -176.97384306 | 23.88262911 | 2538.00000000 |\n",
      "| -62.37357478 | 114.65191147 | -7.27833669 | 2530.00000000 |\n",
      "| 70.56405097 | -72.46881288 | 34.90476190 | 2575.00000000 |\n",
      "| -157.88262911 | 139.22334004 | 101.65928907 | 2608.00000000 |\n",
      "| 198.96646546 | -334.42454728 | -93.54191818 | 2691.00000000 |\n",
      "| -174.98323273 | 262.47484909 | -165.49161636 | 2462.00000000 |\n"
     ]
    }
   ],
   "source": [
    "# Observamos los coeficientes calculados\n",
    "print('|      A      |      B      |      C      |      D      |')\n",
    "for i in range(0, len(A)):\n",
    "    print('| %0.8f | %0.8f | %0.8f | %0.8f |' % (A[i], B[i], C[i], D[i]) )"
   ]
  },
  {
   "cell_type": "markdown",
   "metadata": {},
   "source": [
    "## 5. Formamos los Splines\n",
    "\n",
    "Lo último que nos resta es generar los splines y definir los rangos para los que son válidos. Ya que cada spline une a dos puntos de nuestra tabla original, cada splines tendrá un dominio en el rango formado por dichos puntos subsecuentes. $$[x_i, x_{i+1}]$$\n",
    "\n",
    "Definamos ahora una función que nos regrese el valor correcto por casos."
   ]
  },
  {
   "cell_type": "code",
   "execution_count": 10,
   "metadata": {},
   "outputs": [],
   "source": [
    "def splineCubico(x):\n",
    "    '''\n",
    "    Función que recibe un punto 'x' y regresa su evaluación 'f(x)' si este se encuentra dentro de algún intervalo válido.\n",
    "    Las evaluaciones son realizadas con splines cúbicos, hay un spline entre cada par de puntos.\n",
    "    \n",
    "    '''\n",
    "    \n",
    "    # Usaremos todos los posibles valores de x \n",
    "    v = [2, 2.5, 3, 3.5, 4.5, 5.5, 6.5, 7.5, 8]\n",
    "    \n",
    "    # Casos según el dominio de cada polinomio\n",
    "    if x >= v[0] and x < v[1] :\n",
    "        return A[0]*((x-v[0])**3) + B[0]*((x-v[0])**2) + C[0]*((x-v[0])) + D[0]\n",
    "    \n",
    "    elif x >= v[1] and x < v[2] :\n",
    "        return A[1]*((x-v[1])**3) + B[1]*((x-v[1])**2) + C[1]*(x-v[1]) + D[1]\n",
    "    \n",
    "    elif x >= v[2] and x < v[3] :\n",
    "        return A[2]*((x-v[2])**3) + B[2]*((x-v[2])**2) + C[2]*(x-v[2]) + D[2]\n",
    "    \n",
    "    elif x >= v[3] and x < v[4] :\n",
    "        return A[3]*((x-v[3])**3) + B[3]*((x-v[3])**2) + C[3]*(x-v[3]) + D[3]\n",
    "    \n",
    "    elif x >= v[4] and x < v[5] :\n",
    "        return A[4]*((x-v[4])**3) + B[4]*((x-v[4])**2) + C[4]*(x-v[4]) + D[4]\n",
    "    \n",
    "    elif x >= v[5] and x < v[6] :\n",
    "        return A[5]*((x-v[5])**3) + B[5]*((x-v[5])**2) + C[5]*(x-v[5]) + D[5]\n",
    "    \n",
    "    elif x >= v[6] and x < v[7] :\n",
    "        return A[6]*((x-v[6])**3) + B[6]*((x-v[6])**2) + C[6]*(x-v[6]) + D[6]\n",
    "    \n",
    "    elif x >= v[7] and x <= v[8] :\n",
    "        return A[7]*((x-v[7])**3) + B[7]*((x-v[7])**2) + C[7]*(x-v[7]) + D[7]\n",
    "    \n",
    "    else:\n",
    "        return 0"
   ]
  },
  {
   "cell_type": "markdown",
   "metadata": {},
   "source": [
    "Ahora que tenemos una función por casos encargada de evaluar cada punto que le demos dentro del rango $[2,8]$, podemos utilizar la librería **matplotlib** para graficar una gran cantidad de puntos y visualizar cómo funcionan los splines que calculamos."
   ]
  },
  {
   "cell_type": "code",
   "execution_count": 12,
   "metadata": {},
   "outputs": [
    {
     "data": {
      "image/png": "[encoded data removed]",
      "text/plain": [
       "<Figure size 432x288 with 1 Axes>"
      ]
     },
     "metadata": {
      "needs_background": "light"
     },
     "output_type": "display_data"
    }
   ],
   "source": [
    "import matplotlib.pyplot as plt\n",
    "import numpy as np\n",
    "\n",
    "# Cantidad de puntos a generar por cada intervalo\n",
    "n = 20\n",
    "\n",
    "# Creamos arreglos con n números entre cada par de puntos, así barremos todo el dominio [2,8] con 160 puntos\n",
    "r1 = np.linspace(2,2.5,n)\n",
    "r2 = np.linspace(2.5,3,n)\n",
    "r3 = np.linspace(3,3.5,n)\n",
    "r4 = np.linspace(3.5,4.5,n)\n",
    "r5 = np.linspace(4.5,5.5,n)\n",
    "r6 = np.linspace(5.5,6.5,n)\n",
    "r7 = np.linspace(6.5,7.5,n)\n",
    "r8 = np.linspace(7.5,8,n)\n",
    "\n",
    "# Ahora evaluamos todos los puntos con nuestra función de splines cúbicos y asignamos a cada intervalo un color diferente.\n",
    "plt.plot(r1, [splineCubico(i) for i in r1], color=\"blue\")\n",
    "plt.plot(r2, [splineCubico(i) for i in r2], color=\"cyan\")\n",
    "plt.plot(r3, [splineCubico(i) for i in r3], color=\"green\")\n",
    "plt.plot(r4, [splineCubico(i) for i in r4], color=\"olive\")\n",
    "plt.plot(r5, [splineCubico(i) for i in r5], color=\"orange\")\n",
    "plt.plot(r6, [splineCubico(i) for i in r6], color=\"red\")\n",
    "plt.plot(r7, [splineCubico(i) for i in r7], color=\"purple\")\n",
    "plt.plot(r8, [splineCubico(i) for i in r8], color=\"pink\")\n",
    "\n",
    "# Finalmente graficamos los splines\n",
    "plt.show()"
   ]
  },
  {
   "cell_type": "markdown",
   "metadata": {},
   "source": [
    "Se puede observar que al generar 8 splines cúbicos tenemos un buen ajuste de la función descrita a partir de los puntos proporcionados."
   ]
  }
 ],
 "metadata": {
  "kernelspec": {
   "display_name": "Python 3",
   "language": "python",
   "name": "python3"
  },
  "language_info": {
   "codemirror_mode": {
    "name": "ipython",
    "version": 3
   },
   "file_extension": ".py",
   "mimetype": "text/x-python",
   "name": "python",
   "nbconvert_exporter": "python",
   "pygments_lexer": "ipython3",
   "version": "3.7.3"
  }
 },
 "nbformat": 4,
 "nbformat_minor": 2
}
