{
 "cells": [
  {
   "cell_type": "markdown",
   "metadata": {},
   "source": [
    "<img src=\"https://canada.unam.mx/wp-content/uploads/2018/12/FESAc.png\" alt=\"Portada\" style=\"float: left; margin-right: 50px\" />"
   ]
  },
  {
   "cell_type": "markdown",
   "metadata": {},
   "source": [
    "<h1>Licenciatura en Matematicas Aplicadas y Computación</h1>\n",
    "<h1>Métodos Numéricos 2</h1>\n",
    "<h2 style=\"color:#1a4996\">Mtra. Teresa Carrillo Ramírez</h2>\n",
    "<h2 style=\"color:#1a4996\">Alfonso Flores Zenteno</h2>\n",
    "\n",
    "___"
   ]
  },
  {
   "cell_type": "markdown",
   "metadata": {},
   "source": [
    "# Mínimos Cuadrados\n",
    "\n",
    "El método de mínimos cuadrados nos permite crear un polinomio de grado 'n' que se ajusta a un conjunto de puntos en el plano. En este tutorial seguiremos el algoritmo para generar polinomios de diferentes grados y comparar su grado de error.\n",
    "Para obtener un polinomio del grado 'n' se deben seguir los siguientes pasos:\n",
    "\n",
    "1. Calcular el número de operaciones a realizar y hacer las sumatorias necesarias.\n",
    "2. Crear el sistema de ecuaciones \n",
    "3. Resolver el sistema de ecuaciones\n",
    "4. Formar los polinomios\n"
   ]
  },
  {
   "cell_type": "markdown",
   "metadata": {},
   "source": [
    "Para realizar este ejercicio utilizaremos el siguiente conjunto de datos:\n",
    "\n",
    "| xi  |  yi  |\n",
    "|-----|------|\n",
    "| 0.1 | 0.61 |\n",
    "| 0.4 | 0.92 |\n",
    "| 0.5 | 0.99 |\n",
    "| 0.7 | 1.52 |\n",
    "| 0.8 | 1.47 |\n",
    "| 0.9 | 2.03 |\n",
    "\n",
    "Construiremos polinomios de 1º, 2º y 3º grado. Primero debemos confirmar cuál es el grado máximo de polinomio que podemos realizar con nuestros datos, esto lo hacemos con el siguiente cálculo:\n",
    "\n",
    "$$N_{max} = m - 1$$\n",
    "\n",
    "Donde $m$ es la cantidad de puntos proporcionados. Para este ejercicio es más fácil trabajar con listas separadas de datos para $x$ y para $y$."
   ]
  },
  {
   "cell_type": "code",
   "execution_count": 1,
   "metadata": {},
   "outputs": [
    {
     "name": "stdout",
     "output_type": "stream",
     "text": [
      "5\n"
     ]
    }
   ],
   "source": [
    "# En esta lista guardamos los valores de cada xi\n",
    "VX = [ 0.1, 0.4, 0.5, 0.7, 0.8, 0.9 ]\n",
    "\n",
    "# y en esta guardamos los valores de los yi correspondientes\n",
    "VY = [ 0.61, 0.92, 0.99, 1.52, 1.47, 2.03]\n",
    "\n",
    "# Esta es la cantidad de datos proporcionados\n",
    "m = len(VX)\n",
    "\n",
    "# El grado más alto de polinomio que podemos crear es:\n",
    "print( m - 1 )"
   ]
  },
  {
   "cell_type": "markdown",
   "metadata": {},
   "source": [
    "Ahora que verificamos el grado máximo y nos encontramos dentro del límite, hay que observar nuestros datos para visualizar cuál polinomio puede ser de mayor utilidad."
   ]
  },
  {
   "cell_type": "code",
   "execution_count": 2,
   "metadata": {},
   "outputs": [
    {
     "data": {
      "text/plain": [
       "<Figure size 640x480 with 1 Axes>"
      ]
     },
     "metadata": {},
     "output_type": "display_data"
    }
   ],
   "source": [
    "import matplotlib.pyplot as plt\n",
    "\n",
    "plt.plot(VX, VY, 'bo')\n",
    "plt.show()"
   ]
  },
  {
   "cell_type": "markdown",
   "metadata": {},
   "source": [
    "Parece que una simple regresión lineal podría ajustarse bien a nuestros datos pero vamos a comparar este resultado con polinomios de segundo y tercer grado."
   ]
  },
  {
   "cell_type": "markdown",
   "metadata": {},
   "source": [
    "## 1. Calcular el número de operaciones a realizar y hacer las sumatorias necesarias.\n",
    "\n",
    "Para generar la matriz del sistema de ecuaciones vamos a necesitar $2n + 1$ sumatorias, donde $n$ es el grado del polinomio. Ya que el grado más alto que vamos a considerar es 3, realizaremos 7 sumatorias de la siguiente forma:"
   ]
  },
  {
   "cell_type": "markdown",
   "metadata": {},
   "source": [
    "$$ \\sum_{i=1}^{m} x_{i}^{p} $$\n",
    "Donde $p$ pertenece al conjunto $\\{0, 1, 2, 3, 4, 5, 6\\}$. \n",
    "Almacenaremos los resultados en listas para trabajar más facilmente con los resultados."
   ]
  },
  {
   "cell_type": "code",
   "execution_count": 3,
   "metadata": {},
   "outputs": [
    {
     "name": "stdout",
     "output_type": "stream",
     "text": [
      "[6, 3.4, 2.3600000000000003, 1.774, 1.3940000000000001, 1.1277400000000002, 0.9309560000000001]\n"
     ]
    }
   ],
   "source": [
    "# Inicializamos la lista con ceros\n",
    "sumas = [0, 0, 0, 0, 0, 0, 0]\n",
    "\n",
    "# Hacemos todos los cálculos en un solo ciclo for con la función pow() que facilita el cálculo de potencias\n",
    "for x in VX:\n",
    "    sumas[1] = sumas[1] + x\n",
    "    sumas[2] = sumas[2] + pow(x,2)\n",
    "    sumas[3] = sumas[3] + pow(x,3)\n",
    "    sumas[4] = sumas[4] + pow(x,4)\n",
    "    sumas[5] = sumas[5] + pow(x,5)\n",
    "    sumas[6] = sumas[6] + pow(x,6)\n",
    "    \n",
    "# Ya que la potencia cero siempre da igual 1, esta sumatoria es simplemente la cantidad de elementos en el arreglo    \n",
    "sumas[0] = m\n",
    "    \n",
    "print(sumas)"
   ]
  },
  {
   "cell_type": "markdown",
   "metadata": {},
   "source": [
    "Ahora para generar el vector independiente debemos calcular $n + 1 $ sumas de la forma:\n",
    "$$\\sum_{i=1}^{m}y_i x_{i}^{t} $$\n",
    "Donde $t$ pertenece al conjunto $\\{ 0, 1, 2, 3\\}$, recordemos que $n$ es el grado del polinomio a calcular."
   ]
  },
  {
   "cell_type": "code",
   "execution_count": 4,
   "metadata": {},
   "outputs": [
    {
     "name": "stdout",
     "output_type": "stream",
     "text": [
      "[7.539999999999999, 4.991, 3.7307, 2.93711]\n"
     ]
    }
   ],
   "source": [
    "# Inicializamos la lista para el vector independiente\n",
    "indp = [0, 0, 0, 0]\n",
    "\n",
    "# Realizamos un ciclo para acceder a los elementos de ambos arreglos (Xl, Yl)\n",
    "for i in range(0, len(VX)):\n",
    "    indp[0] = indp[0] + VY[i]\n",
    "    indp[1] = indp[1] + ( VY[i]*pow(VX[i],1))\n",
    "    indp[2] = indp[2] + ( VY[i]*pow(VX[i],2))\n",
    "    indp[3] = indp[3] + ( VY[i]*pow(VX[i],3))\n",
    "    \n",
    "print(indp)"
   ]
  },
  {
   "cell_type": "code",
   "execution_count": 5,
   "metadata": {},
   "outputs": [],
   "source": [
    "# Creamos una función que nos permita vizualizar matrices más fácil\n",
    "def printMatrix(M):\n",
    "    for l in M:\n",
    "        print(l)"
   ]
  },
  {
   "cell_type": "markdown",
   "metadata": {},
   "source": [
    "## 2. Crear el sistema de ecuaciones\n",
    "Ahora debemos llenar la matriz de coeficientes siguiendo el orden correcto. El tamaño de esta matriz dependerá del grado del polinomio que queremos construir. Empecemos por el polinomio de 3º grado, este tiene 4 incógnitas por lo que debemos llenar una matriz de $(4x4)$. Haremos esto renglón por renglón, para el primer renglón empezamos con el valor de las sumas elevadas a la potencia cero y continuamos añadiendo potencias sucesivas hasta que el renglón tenga 4 elementos. Para el siguiente renglón debemos empezar con las sumas elevadas a la primer potencia, el tercero empieza con las sumas a la segunda potencia y el cuarto comienza con sumas a la tercer potencia. Al final debemos tener una matriz cuadrada en la que se ven reflejados todos los coeficientes calculados en el paso anterior."
   ]
  },
  {
   "cell_type": "code",
   "execution_count": 6,
   "metadata": {},
   "outputs": [
    {
     "name": "stdout",
     "output_type": "stream",
     "text": [
      "[6, 3.4, 2.3600000000000003, 1.774]\n",
      "[3.4, 2.3600000000000003, 1.774, 1.3940000000000001]\n",
      "[2.3600000000000003, 1.774, 1.3940000000000001, 1.1277400000000002]\n",
      "[1.774, 1.3940000000000001, 1.1277400000000002, 0.9309560000000001]\n"
     ]
    }
   ],
   "source": [
    "# Inicializamos matriz para el polinomio de 3º grado\n",
    "M_3 = []\n",
    "\n",
    "# Comenzamos definiendo el grado del polinomio \n",
    "grado = 3\n",
    "\n",
    "# Iteramos desde cero hasta n+1 para crear nuestra matrix de 4x4\n",
    "for i in range(0, grado + 1):\n",
    "    M_3.append(sumas[i:i+grado+1])\n",
    "\n",
    "# Observamos los resultados de nuestra matriz\n",
    "printMatrix(M_3)"
   ]
  },
  {
   "cell_type": "markdown",
   "metadata": {},
   "source": [
    "Ahora podemos hacer los mismos cálculos para crear las matrices para el polinomio de 2º y el lineal, simplemente hay que cambiar la variable **grado** según se necesite. Otra opción es simplemente partir de la matriz que ya tenemos y tomar las primeras 3 columnas y renglones para la matriz del polinomio de 2º grado o los primeros 2 renglones y columnas para el polinomio lineal."
   ]
  },
  {
   "cell_type": "code",
   "execution_count": 7,
   "metadata": {},
   "outputs": [
    {
     "name": "stdout",
     "output_type": "stream",
     "text": [
      "[6, 3.4, 2.3600000000000003]\n",
      "[3.4, 2.3600000000000003, 1.774]\n",
      "[2.3600000000000003, 1.774, 1.3940000000000001]\n",
      "-----------------------\n",
      "[6, 3.4]\n",
      "[3.4, 2.3600000000000003]\n"
     ]
    }
   ],
   "source": [
    "# Inicializamos las matrices vacías\n",
    "M_2 = []\n",
    "M_1 = []\n",
    "\n",
    "# Primero llenamos la matriz de 3x3\n",
    "for i in range(0,3):\n",
    "    M_2.append(M_3[i][0:3])\n",
    "    \n",
    "# Ahora la matriz de de 2x2\n",
    "for i in range(0,2):\n",
    "    M_1.append(M_3[i][0:2])\n",
    "\n",
    "# Verificamos las matriz de 3x3\n",
    "printMatrix(M_2)\n",
    "\n",
    "print('-----------------------')\n",
    "# Verificamos la matriz de 2x2\n",
    "printMatrix(M_1)"
   ]
  },
  {
   "cell_type": "markdown",
   "metadata": {},
   "source": [
    "El vector independiente lo calculamos en el paso anterior y para utilizarlo simplemente tomamos el número de elementos que se necesiten, 4, 3 o 2."
   ]
  },
  {
   "cell_type": "markdown",
   "metadata": {},
   "source": [
    "## 3. Resolver el sistema de ecuaciones\n",
    "\n",
    "Ya que tenemos las matrices y vectores necesarios podemos proceder a resolver los sistemas de ecuaciones y obtener los coeficientes de los polinomios de 3°, 2° y lineal. Para esto utilizaremos la librería **numpy** para resolver rápidamente los sistemas de ecuaciones."
   ]
  },
  {
   "cell_type": "code",
   "execution_count": 8,
   "metadata": {},
   "outputs": [
    {
     "name": "stdout",
     "output_type": "stream",
     "text": [
      "0.46239167732449005\n",
      "1.6666887627247888\n",
      "-2.4051481215765307\n",
      "2.6916898025392584\n"
     ]
    }
   ],
   "source": [
    "import numpy as np\n",
    "\n",
    "# Obtenemos la matriz inversa para el polinomio de 3º grado.\n",
    "MA_I = np.linalg.inv( np.array(M_3) )\n",
    "\n",
    "# Creamos el arreglo del vector independiente\n",
    "v_b = np.array(indp)\n",
    "\n",
    "# Obtenemos los coeficientes multiplicando la matriz inversa por el vector independiente\n",
    "c_3 = np.matmul(MA_I, v_b)\n",
    "\n",
    "# Observamos los resultados\n",
    "printMatrix(c_3)"
   ]
  },
  {
   "cell_type": "code",
   "execution_count": 9,
   "metadata": {},
   "outputs": [
    {
     "name": "stdout",
     "output_type": "stream",
     "text": [
      "0.6014452423698202\n",
      "0.04634949132261568\n",
      "1.5990424895272213\n"
     ]
    }
   ],
   "source": [
    "# Obtenemos la matriz inversa para el polinomio de 2º grado.\n",
    "MA_I = np.linalg.inv( np.array(M_2) )\n",
    "\n",
    "# Creamos el arreglo del vector independiente\n",
    "v_b = np.array(indp[0:3])\n",
    "\n",
    "# Obtenemos los coeficientes multiplicando la matriz inversa por el vector independiente\n",
    "c_2 = np.matmul(MA_I, v_b)\n",
    "\n",
    "# Observamos los resultados\n",
    "printMatrix(c_2)"
   ]
  },
  {
   "cell_type": "code",
   "execution_count": 10,
   "metadata": {},
   "outputs": [
    {
     "name": "stdout",
     "output_type": "stream",
     "text": [
      "0.3173076923076925\n",
      "1.657692307692308\n"
     ]
    }
   ],
   "source": [
    "# Obtenemos la matriz inversa para el polinomio lineal\n",
    "MA_I = np.linalg.inv( np.array(M_1) )\n",
    "\n",
    "# Creamos el arreglo del vector independiente\n",
    "v_b = np.array(indp[0:2])\n",
    "\n",
    "# Obtenemos los coeficientes multiplicando la matriz inversa por el vector independiente\n",
    "c_1 = np.matmul(MA_I, v_b)\n",
    "\n",
    "# Observamos los resultados\n",
    "printMatrix(c_1)"
   ]
  },
  {
   "cell_type": "markdown",
   "metadata": {},
   "source": [
    "## 4. Formar los polinomios\n",
    "\n",
    "Ahora que tenemos los coeficientes podemos formar los polinomios en el orden correcto tal como podemos ver a continuación. Definamos una función que nos haga los cálculos necesarios para cada polinomio, para después graficar y comparar los errores."
   ]
  },
  {
   "cell_type": "markdown",
   "metadata": {},
   "source": [
    "$$P_{3} = 0.462392 + 1.666688x - 2.405148x^{2} + 2.691689x^{3}$$"
   ]
  },
  {
   "cell_type": "markdown",
   "metadata": {},
   "source": [
    "$$P_{2} = 0.601445 + 0.046349x + 1.599042x^{2}$$"
   ]
  },
  {
   "cell_type": "markdown",
   "metadata": {},
   "source": [
    "$$P_{1} = 0.317307 + 1.657692x$$"
   ]
  },
  {
   "cell_type": "code",
   "execution_count": 11,
   "metadata": {},
   "outputs": [],
   "source": [
    "def polinomios(tipo, x):\n",
    "    \n",
    "    '''\n",
    "    Función que recibe dos parámetros, el primero será el tip de polinomio a utilizar:\n",
    "        1 - lineal\n",
    "        2 - cuadrático\n",
    "        3 - cúbico\n",
    "        \n",
    "    El segundo parámetro es el valor de x evaluar en el polinomio\n",
    "    '''\n",
    "    \n",
    "    if tipo == 1 :\n",
    "        return c_1[0] + (c_1[1]*x)\n",
    "    \n",
    "    elif tipo == 2 :\n",
    "        return c_2[0] + (c_2[1]*x) + (c_2[2]*pow(x,2))\n",
    "    \n",
    "    elif tipo == 3 :\n",
    "        return c_3[0] + (c_3[1]*x) + (c_3[2]*pow(x,2)) + (c_3[3]*pow(x,3))\n",
    "    \n",
    "    else:\n",
    "        return null;\n",
    "    "
   ]
  },
  {
   "cell_type": "code",
   "execution_count": 12,
   "metadata": {},
   "outputs": [
    {
     "data": {
      "image/png": "[encoded data removed]",
      "text/plain": [
       "<Figure size 432x288 with 1 Axes>"
      ]
     },
     "metadata": {
      "needs_background": "light"
     },
     "output_type": "display_data"
    }
   ],
   "source": [
    "# Ahora procedemos a graficar los polinomios y los puntos originales para comparar polinomios\n",
    "\n",
    "# Creamos un arreglo con 200 puntos equidistantes dentro del rango [0.1, 0.9]\n",
    "dom = np.linspace(0.1, 0.9, 200)\n",
    "\n",
    "plt.plot(VX, VY, 'bo')\n",
    "plt.plot(dom, [polinomios(1, i) for i in dom], color=\"green\")\n",
    "plt.plot(dom, [polinomios(2, i) for i in dom], color=\"red\")\n",
    "plt.plot(dom, [polinomios(3, i) for i in dom], color=\"orange\")\n",
    "\n",
    "plt.show()"
   ]
  },
  {
   "cell_type": "markdown",
   "metadata": {},
   "source": [
    "Ya que tenemos una idea de cómo se ajusta cada polinomio a nuestros puntos podemos calcular los errores de cada uno para verificar cuál es mejor.\n",
    "Para esto debemos sumar las diferencias al cuadrado entre los puntos $y_{i}$ las aproximaciones de nuestros polinomios, de la siguiente forma:\n",
    "\n",
    "$$\\sum_{i=0}^{i<n}( y_{i}-P(x_{i}) )^{2}$$\n",
    "\n",
    "Donde $n$ es el total de puntos que tenemos."
   ]
  },
  {
   "cell_type": "code",
   "execution_count": 13,
   "metadata": {},
   "outputs": [
    {
     "name": "stdout",
     "output_type": "stream",
     "text": [
      "{'lineal': 0.1247576923076922, 'cuadrado': 0.05902474566128081, 'cubo': 0.05302019943642064}\n"
     ]
    }
   ],
   "source": [
    "# Creamos un diccionario que almacene los cálculos del error de cada polinomio\n",
    "errores = { 'lineal': 0, 'cuadrado': 0, 'cubo': 0}\n",
    "\n",
    "n = len(VX)\n",
    "\n",
    "# Iteramos desde 0 hasta n-1\n",
    "for i in range(0,n):\n",
    "    errores['lineal'] += (VY[i] - polinomios(1, VX[i]))**2\n",
    "    errores['cuadrado'] += (VY[i] - polinomios(2, VX[i]))**2\n",
    "    errores['cubo'] += (VY[i] - polinomios(3, VX[i]))**2\n",
    "\n",
    "print(errores)"
   ]
  },
  {
   "cell_type": "markdown",
   "metadata": {},
   "source": [
    "Como se puede apreciar en los resultados anteriores, el polinomio que tiene el menor grado de error es el polinomio cúbico. Se aprecia mejor en la siguiente gráfica:"
   ]
  },
  {
   "cell_type": "code",
   "execution_count": 14,
   "metadata": {},
   "outputs": [
    {
     "data": {
      "image/png": "[encoded data removed]",
      "text/plain": [
       "<Figure size 432x288 with 1 Axes>"
      ]
     },
     "metadata": {
      "needs_background": "light"
     },
     "output_type": "display_data"
    }
   ],
   "source": [
    "plt.plot(VX, VY, 'bo')\n",
    "plt.plot(dom, [polinomios(3, i) for i in dom], color=\"orange\")\n",
    "\n",
    "plt.show()"
   ]
  },
  {
   "cell_type": "markdown",
   "metadata": {},
   "source": [
    "De esta manera generamos un polinomio que tiene un buen ajuste a nuestros puntos iniciales, este método es bastante fácil y rápido de obtener el polinomio, sin embargo es útil hacer polinomios de varios grados y compararlos según se vean nuestros datos iniciales."
   ]
  }
 ],
 "metadata": {
  "kernelspec": {
   "display_name": "Python 3",
   "language": "python",
   "name": "python3"
  },
  "language_info": {
   "codemirror_mode": {
    "name": "ipython",
    "version": 3
   },
   "file_extension": ".py",
   "mimetype": "text/x-python",
   "name": "python",
   "nbconvert_exporter": "python",
   "pygments_lexer": "ipython3",
   "version": "3.7.3"
  }
 },
 "nbformat": 4,
 "nbformat_minor": 2
}
