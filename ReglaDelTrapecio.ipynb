{
 "cells": [
  {
   "cell_type": "markdown",
   "metadata": {},
   "source": [
    "<img src=\"https://canada.unam.mx/wp-content/uploads/2018/12/FESAc.png\" alt=\"Portada\" style=\"float: left; margin-right: 50px\" />"
   ]
  },
  {
   "cell_type": "markdown",
   "metadata": {},
   "source": [
    "<h1>Licenciatura en Matematicas Aplicadas y Computación</h1>\n",
    "<h1>Métodos Numéricos 2</h1>\n",
    "<h2 style=\"color:#1a4996\">Mtra. Teresa Carrillo Ramírez</h2>\n",
    "<h2 style=\"color:#1a4996\">Alfonso Flores Zenteno</h2>\n",
    "\n",
    "___"
   ]
  },
  {
   "cell_type": "markdown",
   "metadata": {},
   "source": [
    "# Regla del trapecio\n",
    "\n",
    "Es un método sencillo que sirve para encontrar la integral de un función conocida en un intervalo determinado $[a,b]$. Por ejemplo tomemos la función:\n",
    "\n",
    "$$f(x) = 10+12x - 15x^3$$\n",
    "\n",
    "Y nos interesa encontrar la integral en el intervalo $[-0.5, 1.0]$ .\n",
    "\n",
    "Podemos encontrar una aproximación a esta integral si calculamos el área del trapacio formado por los puntos $a, b, f(a), f(b)$, usando la fórmula para el área de un trapecio: \n",
    "\n",
    "$$A=\\frac{B+b}{2}h$$\n",
    "\n",
    " Así tendremos una aproximación a la integral de esta manera :"
   ]
  },
  {
   "cell_type": "markdown",
   "metadata": {},
   "source": [
    "Para calcular el área tenemos los siguientes datos:\n",
    "\n",
    "| variable | sustitución | valor |\n",
    "|---|---------|---------|\n",
    "| B | f(1.0)  | 7.0     |\n",
    "| b | f(-0.5) | 5.875   |\n",
    "| h | (b-a)   | 1.5     | \n",
    "| A | $\\frac{B+b}{2}h$ | 9.65625 |"
   ]
  },
  {
   "cell_type": "markdown",
   "metadata": {},
   "source": [
    "Podemos ver que esta no es una aproximación exacta pero para encontrar una mejor solución se puede dividir el intervalo $[a, b]$ por la mitad y obtener dos trapecios diferentes. Al sumar el área de cada uno de estos tendremos un mejor acercamiento a la integral."
   ]
  },
  {
   "cell_type": "markdown",
   "metadata": {},
   "source": [
    "El área del primer trapecio será:\n",
    "$$A=\\frac{B+b}{2}h = \\frac{f( \\frac{a+b}{2} )+f(a)}{2}( \\frac{a+b}{2} - a ) = \\frac{f(0.25)+f(-0.5)}{2}0.75 = 6.990234$$\n",
    "\n",
    "El área del segundo trapecio es:\n",
    "\n",
    "$$A=\\frac{B+b}{2}h = \\frac{f( \\frac{a+b}{2} )+f(b)}{2}( b - \\frac{a+b}{2} ) = \\frac{f(0.25)+f(1.0)}{2}0.75 = 7.412109$$\n",
    "\n",
    "El resultado de sumar las áreas es: $14.402343$\n",
    "\n",
    "Por lo que podemos apreciar una mejoria en el área cubierta por los trapecios y el valor numérico de la aproximación a la integral. La regla del trapecio nos permite seccionar el intervalo de nuestra función las veces que sean necesarias para crear más trapecios y mejorar la aproximación a la integral"
   ]
  },
  {
   "cell_type": "markdown",
   "metadata": {},
   "source": [
    "Ahora que entendimos cómo funciona este método pasemos a aplicarlo en 4 pasos:\n",
    "\n",
    "1. Modularizar las funciones y fórmulas a utilizar\n",
    "2. Dividir el intervalo sobre el que se va a integrar\n",
    "3. Calcular la aproximación a la integral\n",
    "4. Comparar con distintos números de trapecios"
   ]
  },
  {
   "cell_type": "markdown",
   "metadata": {},
   "source": [
    "## Modularizar funciones y fórmulas\n",
    "\n",
    "En este paso definiremos la función $f(x) = 10+12x - 15x^3$ para evaluar puntos de manera rápida. También crearemos una función que calcule el área de un trapecio."
   ]
  },
  {
   "cell_type": "code",
   "execution_count": 1,
   "metadata": {},
   "outputs": [
    {
     "data": {
      "text/plain": [
       "7"
      ]
     },
     "execution_count": 1,
     "metadata": {},
     "output_type": "execute_result"
    }
   ],
   "source": [
    "# La función polinómial que evaluaremos en este ejercicio se ve de la siguiente manera\n",
    "\n",
    "def f1(x):\n",
    "    return 10+(12*x)-(15*(x**3))\n",
    "\n",
    "# Para evaluar un punto se llamaa la función de la siguiente manera\n",
    "f1(1)"
   ]
  },
  {
   "cell_type": "code",
   "execution_count": 2,
   "metadata": {},
   "outputs": [
    {
     "data": {
      "text/plain": [
       "25.0"
      ]
     },
     "execution_count": 2,
     "metadata": {},
     "output_type": "execute_result"
    }
   ],
   "source": [
    "# La función que calcule el área de un trapecio a partir de sus medidas será la siguiente\n",
    "\n",
    "def areaTrapecio(b1, b2, h):\n",
    "    return ((b1+b2)/2)*h\n",
    "\n",
    "# Podemos calcular el área a partir de las bases y la altura\n",
    "areaTrapecio(5, 7.5, 4)"
   ]
  },
  {
   "cell_type": "markdown",
   "metadata": {},
   "source": [
    "## Dividir el intervalo\n",
    "\n",
    "Ahora crearemos el intervalo sobre el que se va a integrar, así como otras medidas útiles para realizar los cálculos más fáciles. Vamos a comparar el método con diferentes cantidades de diviciones sobre el intervalo, probaremos con 1, 2, 4 , 8, 16, 32, 64 y 128 trapecios."
   ]
  },
  {
   "cell_type": "code",
   "execution_count": 3,
   "metadata": {},
   "outputs": [],
   "source": [
    "# Ponemos el intervalo general en una tupla para que no sea modificable\n",
    "intervalo = (-0.5, 1.0)\n",
    "\n",
    "# Necesitamos conocer el largo total del intervalo para saber cómo dividirlo\n",
    "largo = intervalo[1] - intervalo[0]\n",
    "\n",
    "# Tendremos un arreglo con el número de diviciones o cortes del intervalo a probar\n",
    "cortes = [1, 2, 4, 8, 16, 32, 64, 128]"
   ]
  },
  {
   "cell_type": "code",
   "execution_count": 4,
   "metadata": {},
   "outputs": [
    {
     "data": {
      "text/plain": [
       "array([ 0. ,  2.5,  5. ,  7.5, 10. ])"
      ]
     },
     "execution_count": 4,
     "metadata": {},
     "output_type": "execute_result"
    }
   ],
   "source": [
    "# Usaremos la librería numpy para generar arreglos dando un valor inicial, uno final y\n",
    "# el número de valores igualmente espaciados dentro del arreglo\n",
    "import numpy as np\n",
    "\n",
    "np.linspace(0, 10, 5)"
   ]
  },
  {
   "cell_type": "markdown",
   "metadata": {},
   "source": [
    "## Calcular la aproximación a la integral\n",
    "\n",
    "Ahora que tenemos todos los elementos necesarios para calcular la integral es momento de usar los intervalos y las funciones para calcular el caso en el que se tienen 3 trapecios a partir del intervalo $[-0.5, 1.0]$"
   ]
  },
  {
   "cell_type": "code",
   "execution_count": 5,
   "metadata": {},
   "outputs": [
    {
     "name": "stdout",
     "output_type": "stream",
     "text": [
      "[-0.5  0.   0.5  1. ]\n"
     ]
    }
   ],
   "source": [
    "# Esta variable define cuántos trapecios pondremos debajo de la función\n",
    "numTrapecios = 3\n",
    "\n",
    "# Creamos un arreglo de números a partir del intervalo original en el que existan 3 pares de puntos consecutivos\n",
    "subintervalo = np.linspace(intervalo[0], intervalo[1], 1+numTrapecios)\n",
    "\n",
    "# Observamos los 3 pares de valores (-0.5, 0), (0, 0.5), (0.5, 1) que formarán las alturas de nuestros trapecios\n",
    "print(subintervalo)"
   ]
  },
  {
   "cell_type": "code",
   "execution_count": 6,
   "metadata": {},
   "outputs": [
    {
     "name": "stdout",
     "output_type": "stream",
     "text": [
      "15.28125\n"
     ]
    }
   ],
   "source": [
    "# Ya que los pares de puntos que tomaremos son equidistantes entre sí para todas las parejas, podemos calcular la\n",
    "# altura de nuestros trapecios usando la primer pareja de puntos (-0.5, 0) y usarla para todos los casos\n",
    "h = subintervalo[1]-subintervalo[0]\n",
    "\n",
    "# Inicializamos la variable 'integral' en cero para acumular las sumas de los trapecios\n",
    "integral = 0\n",
    "\n",
    "# Creamos un ciclo que va de 0 a 3\n",
    "for i in range(len(subintervalo)):\n",
    "    \n",
    "    # Ya que tomaremos el elemento actual en el índice 'i' y el siguiente 'i+1' debemos \n",
    "    # debemos solo considerar los elementos en los que 'i+1' no exceda el total de elementos dentro del arreglo\n",
    "    if( i+1 < len(subintervalo) ):\n",
    "        \n",
    "        # En esta variable se acumula el cálculo del área del trapecio con los pares de intervalos válidos\n",
    "        integral += areaTrapecio(f1(subintervalo[i]), f1(subintervalo[i+1]), h)\n",
    "\n",
    "# Obtenemos la aproximación a la integral\n",
    "print(integral)"
   ]
  },
  {
   "cell_type": "markdown",
   "metadata": {},
   "source": [
    "## Comparar con distintos números de trapecios\n",
    "\n",
    "Para ilustrar los beneficios que tiene este método, calcularemos las aproximaciones con diferentes números de trapecios dentro del intervalo. Lo haremos iterando sobre el arreglo de 'cortes' que hicimos previamente."
   ]
  },
  {
   "cell_type": "code",
   "execution_count": 7,
   "metadata": {},
   "outputs": [
    {
     "name": "stdout",
     "output_type": "stream",
     "text": [
      "[9.65625, 14.40234375, 15.5888671875, 15.885498046875, 15.95965576171875, 15.978195190429688, 15.982830047607422, 15.983988761901855]\n"
     ]
    }
   ],
   "source": [
    "integrales = [0]*len(cortes)\n",
    "\n",
    "for n in range(len(cortes)):\n",
    "    \n",
    "    subintervalo = np.linspace(intervalo[0], intervalo[1], 1+cortes[n] )\n",
    "    \n",
    "    h = subintervalo[1]-subintervalo[0]\n",
    "    \n",
    "    resultado = 0\n",
    "    \n",
    "    for i in range(len(subintervalo)):\n",
    "        \n",
    "        if( i+1 < len(subintervalo) ):\n",
    "            resultado += areaTrapecio(f1(subintervalo[i]), f1(subintervalo[i+1]), h)\n",
    "    \n",
    "    integrales[n] = resultado\n",
    "    \n",
    "\n",
    "print(integrales)"
   ]
  },
  {
   "cell_type": "markdown",
   "metadata": {},
   "source": [
    "Llegamos a las siguientes aproximaciones dependiendo del número de trapecios:\n",
    "\n",
    "| Número de trapecios | Aproximación |\n",
    "|---------------------|--------------|\n",
    "| 1 | 9.65625 |\n",
    "| 2 | 14.402343 |\n",
    "| 3 | 15.28125 |\n",
    "| 4 | 15.5888671875 |\n",
    "| 8 | 15.885498046875 |\n",
    "| 16 | 15.95965576171875 |\n",
    "| 32 | 15.978195190429688 |\n",
    "| 64 | 15.982830047607422 |\n",
    "| 128 | 15.983988761901855 |\n",
    "\n",
    "Se aprecia que conforme aumentan el número de trapecios mejora la aproximación, desde la iteración con 3 trapecios se queda fija la parte entera en **15**, a partir de 16 trapecios se fija el primer número decimal y hasta el número 64 se fija el segundo valor decimal. Esto nos indica que hay una mejoria en la aproximación sin embargo se necesita de un tamaño de cortes grande para tener una aproximación más cercana al valor real, que en este caso es de $15.9844$"
   ]
  }
 ],
 "metadata": {
  "kernelspec": {
   "display_name": "Python 3",
   "language": "python",
   "name": "python3"
  },
  "language_info": {
   "codemirror_mode": {
    "name": "ipython",
    "version": 3
   },
   "file_extension": ".py",
   "mimetype": "text/x-python",
   "name": "python",
   "nbconvert_exporter": "python",
   "pygments_lexer": "ipython3",
   "version": "3.7.3"
  }
 },
 "nbformat": 4,
 "nbformat_minor": 2
}
